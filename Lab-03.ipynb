{
  "nbformat": 4,
  "nbformat_minor": 0,
  "metadata": {
    "colab": {
      "provenance": [],
      "authorship_tag": "ABX9TyN29VyUfBmslEn6WKdsnEdR",
      "include_colab_link": true
    },
    "kernelspec": {
      "name": "python3",
      "display_name": "Python 3"
    },
    "language_info": {
      "name": "python"
    }
  },
  "cells": [
    {
      "cell_type": "markdown",
      "metadata": {
        "id": "view-in-github",
        "colab_type": "text"
      },
      "source": [
        "<a href=\"https://colab.research.google.com/github/BATTI-CHANDAN-SINGH/Batch_22_-2303A51515-python/blob/main/Lab-03.ipynb\" target=\"_parent\"><img src=\"https://colab.research.google.com/assets/colab-badge.svg\" alt=\"Open In Colab\"/></a>"
      ]
    },
    {
      "cell_type": "code",
      "execution_count": 1,
      "metadata": {
        "id": "TAqCEaYn98oD",
        "colab": {
          "base_uri": "https://localhost:8080/"
        },
        "outputId": "d2582ba6-e148-44ad-d012-9510b400f968"
      },
      "outputs": [
        {
          "output_type": "stream",
          "name": "stdout",
          "text": [
            "Pandas Series:\n",
            "0    10\n",
            "1    20\n",
            "2    30\n",
            "3    40\n",
            "4    50\n",
            "dtype: int64\n"
          ]
        }
      ],
      "source": [
        "import pandas as pd\n",
        "# Creating a Series from a list\n",
        "data = [10, 20, 30, 40, 50]\n",
        "series = pd.Series(data)\n",
        "print(\"Pandas Series:\")\n",
        "print(series)"
      ]
    },
    {
      "cell_type": "code",
      "source": [
        "data = [10, 20, 30, 40, 50]\n",
        "index_labels = ['a', 'b', 'c', 'd', 'e']\n",
        "series = pd.Series(data,\n",
        "index=index_labels)\n",
        "print(series)\n"
      ],
      "metadata": {
        "colab": {
          "base_uri": "https://localhost:8080/"
        },
        "id": "a4R8Y3yE_7Hk",
        "outputId": "51ea2b9f-7743-4e07-9b41-c383196a9ce6"
      },
      "execution_count": 2,
      "outputs": [
        {
          "output_type": "stream",
          "name": "stdout",
          "text": [
            "a    10\n",
            "b    20\n",
            "c    30\n",
            "d    40\n",
            "e    50\n",
            "dtype: int64\n"
          ]
        }
      ]
    },
    {
      "cell_type": "code",
      "source": [
        "# Creating a DataFrame from a dictionary\n",
        "data = {\n",
        "'Name': ['Alice', 'Bob', 'Charlie', 'David'],\n",
        "'Age': [25, 30, 35, 40],\n",
        "'City': ['Hyderabad', 'Delhi', 'Chennai', 'Mumbai']\n",
        "}\n",
        "df = pd.DataFrame(data)\n",
        "print(\"Pandas DataFrame:\")\n",
        "print(df)\n"
      ],
      "metadata": {
        "colab": {
          "base_uri": "https://localhost:8080/"
        },
        "id": "TIhWB69uADT7",
        "outputId": "f20f05ec-ce4e-46d2-ca2e-7b5c1237b8cb"
      },
      "execution_count": 3,
      "outputs": [
        {
          "output_type": "stream",
          "name": "stdout",
          "text": [
            "Pandas DataFrame:\n",
            "      Name  Age       City\n",
            "0    Alice   25  Hyderabad\n",
            "1      Bob   30      Delhi\n",
            "2  Charlie   35    Chennai\n",
            "3    David   40     Mumbai\n"
          ]
        }
      ]
    },
    {
      "cell_type": "code",
      "source": [
        "#(a) Accessing Data\n",
        "# Access a single column\n",
        "print(df['Name'])\n",
        "# Access multiple columns\n",
        "print(df[['Name', 'City']])\n",
        "# Access rows using index\n",
        "print(df.iloc[1]) # row at index 1\n",
        "print(df.loc[2]) # row with label 2\n",
        "#(b) Adding a New Column\n",
        "df['Salary'] = [40000, 50000, 60000, 70000]\n",
        "print(df)\n",
        "#(c) Removing a Column\n",
        "df = df.drop('City', axis=1)\n",
        "print(df)\n"
      ],
      "metadata": {
        "colab": {
          "base_uri": "https://localhost:8080/"
        },
        "id": "Pm_TCRuTAIzO",
        "outputId": "565b7494-9ad8-48bd-c244-e784eae6d135"
      },
      "execution_count": 4,
      "outputs": [
        {
          "output_type": "stream",
          "name": "stdout",
          "text": [
            "0      Alice\n",
            "1        Bob\n",
            "2    Charlie\n",
            "3      David\n",
            "Name: Name, dtype: object\n",
            "      Name       City\n",
            "0    Alice  Hyderabad\n",
            "1      Bob      Delhi\n",
            "2  Charlie    Chennai\n",
            "3    David     Mumbai\n",
            "Name      Bob\n",
            "Age        30\n",
            "City    Delhi\n",
            "Name: 1, dtype: object\n",
            "Name    Charlie\n",
            "Age          35\n",
            "City    Chennai\n",
            "Name: 2, dtype: object\n",
            "      Name  Age       City  Salary\n",
            "0    Alice   25  Hyderabad   40000\n",
            "1      Bob   30      Delhi   50000\n",
            "2  Charlie   35    Chennai   60000\n",
            "3    David   40     Mumbai   70000\n",
            "      Name  Age  Salary\n",
            "0    Alice   25   40000\n",
            "1      Bob   30   50000\n",
            "2  Charlie   35   60000\n",
            "3    David   40   70000\n"
          ]
        }
      ]
    },
    {
      "cell_type": "code",
      "source": [
        "#(d) Filtering Data\n",
        "# Select rows where Age > 30\n",
        "print(df[df['Age'] > 30])\n",
        "#(e) Basic Statistics\n",
        "print(df['Age'].mean()) # Average age\n",
        "print(df['Age'].max()) # Maximum age\n",
        "print(df['Age'].min()) # Minimum age"
      ],
      "metadata": {
        "colab": {
          "base_uri": "https://localhost:8080/"
        },
        "id": "MZYuXVlOAZO-",
        "outputId": "6d25c8b3-fe73-4929-9e9b-52a1a205e182"
      },
      "execution_count": 5,
      "outputs": [
        {
          "output_type": "stream",
          "name": "stdout",
          "text": [
            "      Name  Age  Salary\n",
            "2  Charlie   35   60000\n",
            "3    David   40   70000\n",
            "32.5\n",
            "40\n",
            "25\n"
          ]
        }
      ]
    },
    {
      "cell_type": "code",
      "source": [
        "import pandas as pd\n",
        "# Create a DataFrame with student details\n",
        "student_data = {\n",
        "'Student_ID': [101, 102, 103, 104],\n",
        "'Name': ['Ravi', 'Neha', 'Kiran', 'Sita'],\n",
        "'Marks': [85, 90, 78, 92],\n",
        "'Department': ['CSE', 'ECE', 'MECH', 'CSE']\n",
        "}\n",
        "df = pd.DataFrame(student_data)\n",
        "# Display full DataFrame\n",
        "print(\"Student Data:\")\n",
        "print(df)\n",
        "# Find students with marks > 80\n",
        "print(\"\\nStudents with Marks > 80:\")\n",
        "print(df[df['Marks'] > 80])\n",
        "# Average marks\n",
        "print(\"\\nAverage Marks:\", df['Marks'].mean())\n",
        "# Add new column\n",
        "df['Result'] = ['Pass' if x >= 40 else 'Fail' for x in df['Marks']]\n",
        "print(\"\\nWith Result Column:\")\n",
        "print(df)"
      ],
      "metadata": {
        "colab": {
          "base_uri": "https://localhost:8080/"
        },
        "id": "QISpYenAAeae",
        "outputId": "c15b2da6-5fad-4740-c0de-1e68031b6d01"
      },
      "execution_count": 6,
      "outputs": [
        {
          "output_type": "stream",
          "name": "stdout",
          "text": [
            "Student Data:\n",
            "   Student_ID   Name  Marks Department\n",
            "0         101   Ravi     85        CSE\n",
            "1         102   Neha     90        ECE\n",
            "2         103  Kiran     78       MECH\n",
            "3         104   Sita     92        CSE\n",
            "\n",
            "Students with Marks > 80:\n",
            "   Student_ID  Name  Marks Department\n",
            "0         101  Ravi     85        CSE\n",
            "1         102  Neha     90        ECE\n",
            "3         104  Sita     92        CSE\n",
            "\n",
            "Average Marks: 86.25\n",
            "\n",
            "With Result Column:\n",
            "   Student_ID   Name  Marks Department Result\n",
            "0         101   Ravi     85        CSE   Pass\n",
            "1         102   Neha     90        ECE   Pass\n",
            "2         103  Kiran     78       MECH   Pass\n",
            "3         104   Sita     92        CSE   Pass\n"
          ]
        }
      ]
    },
    {
      "cell_type": "code",
      "source": [],
      "metadata": {
        "id": "YvKhgZzQAq7m"
      },
      "execution_count": null,
      "outputs": []
    }
  ]
}