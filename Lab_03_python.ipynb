{
  "nbformat": 4,
  "nbformat_minor": 0,
  "metadata": {
    "colab": {
      "provenance": [],
      "authorship_tag": "ABX9TyNez/gOi9gXXPLMqDlhV4Mw",
      "include_colab_link": true
    },
    "kernelspec": {
      "name": "python3",
      "display_name": "Python 3"
    },
    "language_info": {
      "name": "python"
    }
  },
  "cells": [
    {
      "cell_type": "markdown",
      "metadata": {
        "id": "view-in-github",
        "colab_type": "text"
      },
      "source": [
        "<a href=\"https://colab.research.google.com/github/BATTI-CHANDAN-SINGH/Batch_22_-2303A51515-python/blob/main/Lab_03_python.ipynb\" target=\"_parent\"><img src=\"https://colab.research.google.com/assets/colab-badge.svg\" alt=\"Open In Colab\"/></a>"
      ]
    },
    {
      "cell_type": "code",
      "execution_count": null,
      "metadata": {
        "colab": {
          "base_uri": "https://localhost:8080/"
        },
        "id": "PkukcefHElE2",
        "outputId": "5f4ccc65-6375-4c22-c7d1-116f9bf2981e"
      },
      "outputs": [
        {
          "output_type": "stream",
          "name": "stdout",
          "text": [
            "[1 3 4]\n",
            "[[1 2 3]\n",
            " [4 5 6]]\n",
            "[[0. 0. 0.]\n",
            " [0. 0. 0.]]\n",
            "[[1. 1. 1.]\n",
            " [1. 1. 1.]]\n",
            "[0 1 2 3 4 5 6 7 8 9]\n",
            "[2 7 0 8 1]\n"
          ]
        }
      ],
      "source": [
        "#1D Array\n",
        "import numpy as np\n",
        "arr1 = np.array([1,3,4])\n",
        "print(arr1)\n",
        "\n",
        "#2d Array\n",
        "arr2 = np.array([[1,2,3],[4,5,6]])\n",
        "print(arr2)\n",
        "\n"
      ]
    },
    {
      "cell_type": "code",
      "source": [
        "#Zero Array\n",
        "zero_arr = np.zeros((2,3))\n",
        "print(zero_arr)\n",
        "\n",
        "#Ones Array\n",
        "ones_arr = np.ones((2,3))\n",
        "print(ones_arr)\n",
        "\n",
        "#range of number\n",
        "range_arr = np.arange(0,10,1)\n",
        "print(range_arr)\n",
        "\n",
        "#random Array\n",
        "random_arr = np.random.randint(0,10,5)\n",
        "print(random_arr)"
      ],
      "metadata": {
        "colab": {
          "base_uri": "https://localhost:8080/"
        },
        "id": "u--ifS-EKutn",
        "outputId": "d140ba75-5c7b-4391-c3cb-446f3ac03a0f"
      },
      "execution_count": null,
      "outputs": [
        {
          "output_type": "stream",
          "name": "stdout",
          "text": [
            "[[0. 0. 0.]\n",
            " [0. 0. 0.]]\n",
            "[[1. 1. 1.]\n",
            " [1. 1. 1.]]\n",
            "[0 1 2 3 4 5 6 7 8 9]\n",
            "[3 3 4 3 2]\n"
          ]
        }
      ]
    },
    {
      "cell_type": "code",
      "source": [
        "#Array Attributes\n",
        "arr = np.array([[1,2,3],[4,5,6]])\n",
        "print(arr.shape)\n",
        "print(arr.dtype)\n",
        "print(arr.size)\n",
        "print(arr.ndim)\n",
        "print(arr.itemsize)"
      ],
      "metadata": {
        "colab": {
          "base_uri": "https://localhost:8080/"
        },
        "id": "zYWoieChFLoO",
        "outputId": "6473374a-3034-486c-bbdd-bb5f2980de6a"
      },
      "execution_count": null,
      "outputs": [
        {
          "output_type": "stream",
          "name": "stdout",
          "text": [
            "(2, 3)\n",
            "int64\n",
            "6\n",
            "2\n",
            "8\n"
          ]
        }
      ]
    },
    {
      "cell_type": "code",
      "source": [
        "#indexing and Slicing\n",
        "#1D Array\n",
        "arr = np.array([10,20,30,40])\n",
        "print(\"first element\",arr[0])\n",
        "print(\"second element\",arr[1])\n",
        "print(\"last element\",arr[-1])\n",
        "print(\"first two element\",arr[0:2])\n",
        "print(\"last two element\",arr[-2:])\n",
        "print(\"first three element\",arr[:3])\n",
        "print(\"reverse array\",arr[::-1])\n",
        "print(\"reverse array\",arr[::-2])\n",
        "print(\"slice[1:4]\", arr[1:4])\n",
        "\n",
        "#2D Array\n",
        "arr = np.array([[1,2,3],[4,5,6],[7,8,9]])\n",
        "print(\"first row\",arr[0])\n",
        "print(\"second row\",arr[1])\n",
        "print(\"third row\",arr[2])\n",
        "print(\"first element of first row\",arr[0,0])\n",
        "print(\"first element of second row\",arr[1,0])\n",
        "print(\"first element of third row\",arr[2,0])\n",
        "print(\"first two element of first row\",arr[0,0:2])\n",
        "print(\"first two element of second row\",arr[1,0:2])\n",
        "print(\"first two element of third row\",arr[2,0:2])\n",
        "print(\"first two element of first row\",arr[0:2,0])\n",
        "print(\"first two element of second row\",arr[0:2,1])\n",
        "print(\"first two element of third row\",arr[0:2,2])"
      ],
      "metadata": {
        "colab": {
          "base_uri": "https://localhost:8080/"
        },
        "id": "GajGu-gMKzox",
        "outputId": "ee458f96-9631-4349-de7e-c5fbb28a707b"
      },
      "execution_count": null,
      "outputs": [
        {
          "output_type": "stream",
          "name": "stdout",
          "text": [
            "first element 10\n",
            "second element 20\n",
            "last element 40\n",
            "first two element [10 20]\n",
            "last two element [30 40]\n",
            "first three element [10 20 30]\n",
            "reverse array [40 30 20 10]\n",
            "reverse array [40 20]\n",
            "slice[1:4] [20 30 40]\n",
            "first row [1 2 3]\n",
            "second row [4 5 6]\n",
            "third row [7 8 9]\n",
            "first element of first row 1\n",
            "first element of second row 4\n",
            "first element of third row 7\n",
            "first two element of first row [1 2]\n",
            "first two element of second row [4 5]\n",
            "first two element of third row [7 8]\n",
            "first two element of first row [1 4]\n",
            "first two element of second row [2 5]\n",
            "first two element of third row [3 6]\n"
          ]
        }
      ]
    },
    {
      "cell_type": "code",
      "source": [
        "#Array Operations\n",
        "#Arithmetic\n",
        "arr1 = np.array([1,2,3])\n",
        "arr2 = np.array([4,5,6])\n",
        "print(\"Addition\",arr1+arr2)\n",
        "print(\"Subtraction\",arr1-arr2)\n",
        "print(\"Multiplication\",arr1*arr2)\n",
        "print(\"Division\",arr1/arr2)\n",
        "print(\"Exponent\",arr1**arr2)\n",
        "print(\"Modulus\",arr1%arr2)\n",
        "print(\"Dot Product\",np.dot(arr1,arr2))\n",
        "print(\"power\",np.power(arr1,arr2))\n",
        "\n",
        "#Mathemaitcal Functions\n",
        "arr = np.array([1,2,3])\n",
        "print(\"sin\",np.sin(arr))\n",
        "print(\"cos\",np.cos(arr))\n",
        "print(\"tan\",np.tan(arr))\n",
        "print(\"log\",np.log(arr))\n",
        "print(\"exp\",np.exp(arr))\n"
      ],
      "metadata": {
        "colab": {
          "base_uri": "https://localhost:8080/"
        },
        "id": "FqttJbGJPtOG",
        "outputId": "53c0aabd-5440-4822-a3e2-549f416c5631"
      },
      "execution_count": null,
      "outputs": [
        {
          "output_type": "stream",
          "name": "stdout",
          "text": [
            "Addition [5 7 9]\n",
            "Subtraction [-3 -3 -3]\n",
            "Multiplication [ 4 10 18]\n",
            "Division [0.25 0.4  0.5 ]\n",
            "Exponent [  1  32 729]\n",
            "Modulus [1 2 3]\n",
            "Dot Product 32\n",
            "power [  1  32 729]\n",
            "sin [0.84147098 0.90929743 0.14112001]\n",
            "cos [ 0.54030231 -0.41614684 -0.9899925 ]\n",
            "tan [ 1.55740772 -2.18503986 -0.14254654]\n",
            "log [0.         0.69314718 1.09861229]\n",
            "exp [ 2.71828183  7.3890561  20.08553692]\n",
            "sum 6\n",
            "mean 2.0\n",
            "median 2.0\n",
            "standard deviation 0.816496580927726\n"
          ]
        }
      ]
    },
    {
      "cell_type": "code",
      "source": [
        "arr = np.array([[1,2,3],[2,3,4]])\n",
        "print(\"sum\",np.sum(arr))\n",
        "print(\"mean\",np.mean(arr))\n",
        "print(\"median\",np.median(arr))\n",
        "print(\"standard deviation\",np.std(arr))\n",
        "print(\"variance\",np.var(arr))\n",
        "print(\"minimum\",np.min(arr))\n",
        "print(\"maximum\",np.max(arr))\n",
        "print(\"argmin\",np.argmin(arr))\n",
        "print(\"argmax\",np.argmax(arr))\n",
        "print(\"sort\",np.sort(arr))\n",
        "print(\"concatenate\",np.concatenate((arr1,arr2)))\n",
        "print(\"stack\",np.stack((arr1,arr2)))\n",
        "print(\"vstack\",np.vstack((arr1,arr2)))\n",
        "print(\"hstack\",np.hstack((arr1,arr2)))\n",
        "print(\"transpose\",np.transpose(arr1))\n",
        "print(\"sum along 0\", np.sum(arr, axis=0))\n",
        "print(\"sum along 1\", np.sum(arr, axis=1))\n"
      ],
      "metadata": {
        "colab": {
          "base_uri": "https://localhost:8080/"
        },
        "id": "8aATa5xrPth1",
        "outputId": "850a39c7-3780-4d94-a81f-de5219d24fe4"
      },
      "execution_count": null,
      "outputs": [
        {
          "output_type": "stream",
          "name": "stdout",
          "text": [
            "sum 15\n",
            "mean 2.5\n",
            "median 2.5\n",
            "standard deviation 0.9574271077563381\n",
            "variance 0.9166666666666666\n",
            "minimum 1\n",
            "maximum 4\n",
            "argmin 0\n",
            "argmax 5\n",
            "sort [[1 2 3]\n",
            " [2 3 4]]\n",
            "concatenate [1 2 3 4 5 6]\n",
            "stack [[1 2 3]\n",
            " [4 5 6]]\n",
            "vstack [[1 2 3]\n",
            " [4 5 6]]\n",
            "hstack [1 2 3 4 5 6]\n",
            "transpose [1 2 3]\n",
            "sum along 0 [3 5 7]\n",
            "sum along 1 [6 9]\n"
          ]
        }
      ]
    },
    {
      "cell_type": "code",
      "source": [
        "#Broadcasting\n",
        "a=np.array([1,2,3])\n",
        "b=5\n",
        "print(\"Add Scalar to array\", a+b)\n",
        "print(\"Sub Scalar to array\", a-b)\n",
        "print(\"Mul Scalar to array\", a*b)\n",
        "print(\"Div Scalar to array\", a/b)\n",
        "print(\"Mod Scalar to array\", a%b)\n",
        "print(\"Exp Scalar to array\", a**b)\n",
        "\n",
        "c=np.array([[1],[2],[3]])\n",
        "d=np.array([4,5,6])\n",
        "print(\"Add Scalar to array\", c+d)\n",
        "print(\"Sub Scalar to array\", c-d)\n",
        "print(\"Mul Scalar to array\", c*d)\n",
        "print(\"Div Scalar to array\", c/d)\n",
        "print(\"Mod Scalar to array\", c%d)"
      ],
      "metadata": {
        "colab": {
          "base_uri": "https://localhost:8080/"
        },
        "id": "6xwsQXCZRJOe",
        "outputId": "59ab940e-9270-4131-c650-b390cf3252c8"
      },
      "execution_count": null,
      "outputs": [
        {
          "output_type": "stream",
          "name": "stdout",
          "text": [
            "Add Scalar to array [6 7 8]\n",
            "Sub Scalar to array [-4 -3 -2]\n",
            "Mul Scalar to array [ 5 10 15]\n",
            "Div Scalar to array [0.2 0.4 0.6]\n",
            "Mod Scalar to array [1 2 3]\n",
            "Exp Scalar to array [  1  32 243]\n",
            "Add Scalar to array [[5 6 7]\n",
            " [6 7 8]\n",
            " [7 8 9]]\n",
            "Sub Scalar to array [[-3 -4 -5]\n",
            " [-2 -3 -4]\n",
            " [-1 -2 -3]]\n",
            "Mul Scalar to array [[ 4  5  6]\n",
            " [ 8 10 12]\n",
            " [12 15 18]]\n",
            "Div Scalar to array [[0.25       0.2        0.16666667]\n",
            " [0.5        0.4        0.33333333]\n",
            " [0.75       0.6        0.5       ]]\n",
            "Mod Scalar to array [[1 1 1]\n",
            " [2 2 2]\n",
            " [3 3 3]]\n"
          ]
        }
      ]
    },
    {
      "cell_type": "code",
      "source": [
        "A=np.array([[1,2],[3,4]])\n",
        "B=np.array([[5,6],[7,8]])\n",
        "print(\"matrix mulplication:\\n\", np.dot(A,B))\n",
        "print(\"Transpose:\\n\",A.T)\n",
        "print(\"Inverse:\\n\",np.linalg.inv(A))\n",
        "print(\"Determinant:\\n\",np.linalg.det(A))"
      ],
      "metadata": {
        "colab": {
          "base_uri": "https://localhost:8080/"
        },
        "id": "WZFVS-eAUHee",
        "outputId": "6bab1b92-4f99-435b-999a-6c9b7b968c4b"
      },
      "execution_count": null,
      "outputs": [
        {
          "output_type": "stream",
          "name": "stdout",
          "text": [
            "matrix mulplication:\n",
            " [[19 22]\n",
            " [43 50]]\n",
            "Transpose:\n",
            " [[1 3]\n",
            " [2 4]]\n",
            "Inverse:\n",
            " [[-2.   1. ]\n",
            " [ 1.5 -0.5]]\n",
            "Determinant:\n",
            " -2.0000000000000004\n"
          ]
        }
      ]
    },
    {
      "cell_type": "code",
      "source": [
        "#simple Program -Student Marks Analyis\n",
        "import numpy as nd\n",
        "#Maks of student in  3 subjects\n",
        "marks = nd.array([[85,90,88],[88,79,87],[85,80,100]])\n",
        "print(\"Average per student \",nd.mean(marks, axis=1))\n",
        "print(\"Average per subject\", nd.mean(marks, axis=0))\n",
        "print(\"Highest marks each subject\", nd.max(marks, axis=0))\n",
        "print(\"Lowest marks each subject\", nd.min(marks, axis=0))\n",
        "print(\"Student with the highest total marks\", nd.argmax(nd.sum(marks, axis=1)) + 1)\n",
        "print(\"Subject with the lowest average score\", nd.argmin(nd.mean(marks, axis=0)) + 1)"
      ],
      "metadata": {
        "id": "fR5vbX_zWuAX",
        "colab": {
          "base_uri": "https://localhost:8080/"
        },
        "outputId": "e10c78c7-09b8-43b0-df4a-d50cb138d46c"
      },
      "execution_count": 45,
      "outputs": [
        {
          "output_type": "stream",
          "name": "stdout",
          "text": [
            "Average per student  [87.66666667 84.66666667 88.33333333]\n",
            "Average per subject [86.         83.         91.66666667]\n",
            "Highest marks each subject [ 88  90 100]\n",
            "Lowest marks each subject [85 79 87]\n",
            "Student with the highest total marks 3\n",
            "Subject with the lowest average score 2\n"
          ]
        }
      ]
    }
  ]
}