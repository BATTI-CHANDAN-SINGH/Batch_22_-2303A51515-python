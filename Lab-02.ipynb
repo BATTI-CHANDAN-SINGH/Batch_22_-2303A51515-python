{
  "nbformat": 4,
  "nbformat_minor": 0,
  "metadata": {
    "colab": {
      "provenance": [],
      "authorship_tag": "ABX9TyNOQ03OY/+4qx+ZIZc+6c7D",
      "include_colab_link": true
    },
    "kernelspec": {
      "name": "python3",
      "display_name": "Python 3"
    },
    "language_info": {
      "name": "python"
    }
  },
  "cells": [
    {
      "cell_type": "markdown",
      "metadata": {
        "id": "view-in-github",
        "colab_type": "text"
      },
      "source": [
        "<a href=\"https://colab.research.google.com/github/BATTI-CHANDAN-SINGH/Batch_22_-2303A51515-python/blob/main/Lab-02.ipynb\" target=\"_parent\"><img src=\"https://colab.research.google.com/assets/colab-badge.svg\" alt=\"Open In Colab\"/></a>"
      ]
    },
    {
      "cell_type": "markdown",
      "source": [
        "Question-01"
      ],
      "metadata": {
        "id": "URSaIMRAhvyV"
      }
    },
    {
      "cell_type": "code",
      "execution_count": 10,
      "metadata": {
        "id": "MfnvCMSghXN9"
      },
      "outputs": [],
      "source": [
        "import pandas as pd"
      ]
    },
    {
      "cell_type": "code",
      "source": [
        "data = {\n",
        "    \"OrderID\": [101, 102, 103, 104, 105, 106],\n",
        "    \"Product\": [\"Laptop\", \"Phone\", \"Tablet\", \"Laptop\", \"Headphones\", \"Phone\"],\n",
        "    \"Quantity\": [2, 5, 3, 1, 10, 4],\n",
        "    \"Price\": [60000, 15000, 20000, 60000, 2000, 15000]\n",
        "}"
      ],
      "metadata": {
        "id": "1kq5hfnkherb"
      },
      "execution_count": 11,
      "outputs": []
    },
    {
      "cell_type": "code",
      "source": [
        "df = pd.DataFrame(data)\n",
        "print(\"=== Original Sales Data ===\")\n",
        "print(df)"
      ],
      "metadata": {
        "colab": {
          "base_uri": "https://localhost:8080/"
        },
        "id": "69cW6r2HhglJ",
        "outputId": "ce950e8c-485c-46e0-f201-38153ad4611a"
      },
      "execution_count": 12,
      "outputs": [
        {
          "output_type": "stream",
          "name": "stdout",
          "text": [
            "=== Original Sales Data ===\n",
            "   OrderID     Product  Quantity  Price\n",
            "0      101      Laptop         2  60000\n",
            "1      102       Phone         5  15000\n",
            "2      103      Tablet         3  20000\n",
            "3      104      Laptop         1  60000\n",
            "4      105  Headphones        10   2000\n",
            "5      106       Phone         4  15000\n"
          ]
        }
      ]
    },
    {
      "cell_type": "code",
      "source": [
        "df[\"Total_Sale\"] = df[\"Quantity\"] * df[\"Price\"]\n",
        "print(\"\\n=== Sales Data with Total_Sale ===\")\n",
        "print(df)"
      ],
      "metadata": {
        "colab": {
          "base_uri": "https://localhost:8080/"
        },
        "id": "B8vrFTSEhiT-",
        "outputId": "39715110-1a2e-4492-86dd-d57534b52c6e"
      },
      "execution_count": 13,
      "outputs": [
        {
          "output_type": "stream",
          "name": "stdout",
          "text": [
            "\n",
            "=== Sales Data with Total_Sale ===\n",
            "   OrderID     Product  Quantity  Price  Total_Sale\n",
            "0      101      Laptop         2  60000      120000\n",
            "1      102       Phone         5  15000       75000\n",
            "2      103      Tablet         3  20000       60000\n",
            "3      104      Laptop         1  60000       60000\n",
            "4      105  Headphones        10   2000       20000\n",
            "5      106       Phone         4  15000       60000\n"
          ]
        }
      ]
    },
    {
      "cell_type": "code",
      "source": [
        "filtered_orders = df[df[\"Total_Sale\"] > 1000]\n",
        "print(\"\\n=== Orders with Total_Sale > 1000 ===\")\n",
        "print(filtered_orders)"
      ],
      "metadata": {
        "colab": {
          "base_uri": "https://localhost:8080/"
        },
        "id": "Va01h_9thkBS",
        "outputId": "bbaac772-a4c6-4f0d-ae6a-b68d011c1108"
      },
      "execution_count": 14,
      "outputs": [
        {
          "output_type": "stream",
          "name": "stdout",
          "text": [
            "\n",
            "=== Orders with Total_Sale > 1000 ===\n",
            "   OrderID     Product  Quantity  Price  Total_Sale\n",
            "0      101      Laptop         2  60000      120000\n",
            "1      102       Phone         5  15000       75000\n",
            "2      103      Tablet         3  20000       60000\n",
            "3      104      Laptop         1  60000       60000\n",
            "4      105  Headphones        10   2000       20000\n",
            "5      106       Phone         4  15000       60000\n"
          ]
        }
      ]
    },
    {
      "cell_type": "code",
      "source": [
        "most_sold = df.groupby(\"Product\")[\"Quantity\"].sum().sort_values(ascending=False)\n",
        "print(\"\\n=== Most Sold Product ===\")\n",
        "print(most_sold)"
      ],
      "metadata": {
        "colab": {
          "base_uri": "https://localhost:8080/"
        },
        "id": "1hcdv10ghl2F",
        "outputId": "617eb0bc-ad13-4c1a-a1ea-7db8f7068a06"
      },
      "execution_count": 15,
      "outputs": [
        {
          "output_type": "stream",
          "name": "stdout",
          "text": [
            "\n",
            "=== Most Sold Product ===\n",
            "Product\n",
            "Headphones    10\n",
            "Phone          9\n",
            "Laptop         3\n",
            "Tablet         3\n",
            "Name: Quantity, dtype: int64\n"
          ]
        }
      ]
    },
    {
      "cell_type": "code",
      "source": [
        "df[\"Discount\"] = df[\"Total_Sale\"].apply(lambda x: 0.10*x if x > 50000 else 0.05*x)\n",
        "print(\"\\n=== Sales Data with Discount ===\")\n",
        "print(df)"
      ],
      "metadata": {
        "colab": {
          "base_uri": "https://localhost:8080/"
        },
        "id": "sef7gSxvhqBZ",
        "outputId": "50bb4fa2-2b3a-40e0-c96d-74bb0bb6d05e"
      },
      "execution_count": 16,
      "outputs": [
        {
          "output_type": "stream",
          "name": "stdout",
          "text": [
            "\n",
            "=== Sales Data with Discount ===\n",
            "   OrderID     Product  Quantity  Price  Total_Sale  Discount\n",
            "0      101      Laptop         2  60000      120000   12000.0\n",
            "1      102       Phone         5  15000       75000    7500.0\n",
            "2      103      Tablet         3  20000       60000    6000.0\n",
            "3      104      Laptop         1  60000       60000    6000.0\n",
            "4      105  Headphones        10   2000       20000    1000.0\n",
            "5      106       Phone         4  15000       60000    6000.0\n"
          ]
        }
      ]
    },
    {
      "cell_type": "code",
      "source": [
        "df.to_excel(\"sales_summary.xlsx\", index=False)\n",
        "print(\"\\n Sales summary exported to 'sales_summary.xlsx'\")"
      ],
      "metadata": {
        "colab": {
          "base_uri": "https://localhost:8080/"
        },
        "id": "koI-3gb9hsD1",
        "outputId": "650df804-d215-4e17-8f12-77d8be5d3f72"
      },
      "execution_count": 17,
      "outputs": [
        {
          "output_type": "stream",
          "name": "stdout",
          "text": [
            "\n",
            " Sales summary exported to 'sales_summary.xlsx'\n"
          ]
        }
      ]
    },
    {
      "cell_type": "markdown",
      "source": [
        "Question-02"
      ],
      "metadata": {
        "id": "pLr6w4Y-iC0u"
      }
    },
    {
      "cell_type": "code",
      "source": [
        "import matplotlib.pyplot as plt"
      ],
      "metadata": {
        "id": "_t2mF6G0iArl"
      },
      "execution_count": 18,
      "outputs": []
    },
    {
      "cell_type": "code",
      "source": [
        "budget_data = {\n",
        "    \"Department\": [\"HR\", \"IT\", \"Marketing\", \"Finance\", \"Operations\"],\n",
        "    \"Budget\": [50000, 120000, 80000, 60000, 100000]\n",
        "}\n",
        "df_budget = pd.DataFrame(budget_data)\n",
        "print(\"=== Department Budget ===\")\n",
        "print(df_budget)"
      ],
      "metadata": {
        "colab": {
          "base_uri": "https://localhost:8080/"
        },
        "id": "UN0eNLGciHzc",
        "outputId": "542b765a-795b-4fa2-ef3c-68ade8cd2678"
      },
      "execution_count": 19,
      "outputs": [
        {
          "output_type": "stream",
          "name": "stdout",
          "text": [
            "=== Department Budget ===\n",
            "   Department  Budget\n",
            "0          HR   50000\n",
            "1          IT  120000\n",
            "2   Marketing   80000\n",
            "3     Finance   60000\n",
            "4  Operations  100000\n"
          ]
        }
      ]
    },
    {
      "cell_type": "code",
      "source": [
        "expenses_data = {\n",
        "    \"Department\": [\"HR\", \"IT\", \"Marketing\", \"Finance\", \"Operations\"],\n",
        "    \"Actual_Expense\": [52000, 150000, 75000, 58000, 110000]\n",
        "}\n",
        "df_expenses = pd.DataFrame(expenses_data)\n",
        "print(\"\\n=== Department Expenses ===\")\n",
        "print(df_expenses)"
      ],
      "metadata": {
        "colab": {
          "base_uri": "https://localhost:8080/"
        },
        "id": "wuH4xkuyiLoX",
        "outputId": "366e5b3e-b0f4-40e6-d5b1-bfcaba0d43c7"
      },
      "execution_count": 20,
      "outputs": [
        {
          "output_type": "stream",
          "name": "stdout",
          "text": [
            "\n",
            "=== Department Expenses ===\n",
            "   Department  Actual_Expense\n",
            "0          HR           52000\n",
            "1          IT          150000\n",
            "2   Marketing           75000\n",
            "3     Finance           58000\n",
            "4  Operations          110000\n"
          ]
        }
      ]
    },
    {
      "cell_type": "code",
      "source": [
        "df_merged = pd.merge(df_budget, df_expenses, on=\"Department\")\n",
        "print(\"\\n=== Merged Data ===\")\n",
        "print(df_merged)"
      ],
      "metadata": {
        "colab": {
          "base_uri": "https://localhost:8080/"
        },
        "id": "O_7kuIH4iN0k",
        "outputId": "471fd413-842b-4e29-f8da-071ebfba86cb"
      },
      "execution_count": 21,
      "outputs": [
        {
          "output_type": "stream",
          "name": "stdout",
          "text": [
            "\n",
            "=== Merged Data ===\n",
            "   Department  Budget  Actual_Expense\n",
            "0          HR   50000           52000\n",
            "1          IT  120000          150000\n",
            "2   Marketing   80000           75000\n",
            "3     Finance   60000           58000\n",
            "4  Operations  100000          110000\n"
          ]
        }
      ]
    },
    {
      "cell_type": "code",
      "source": [
        "df_merged[\"Variance\"] = df_merged[\"Actual_Expense\"] - df_merged[\"Budget\"]\n",
        "print(\"\\n=== Data with Variance ===\")\n",
        "print(df_merged)"
      ],
      "metadata": {
        "colab": {
          "base_uri": "https://localhost:8080/"
        },
        "id": "s6JearkmiPnl",
        "outputId": "29e46c21-d78f-4195-f0c5-a7b0c2179f9d"
      },
      "execution_count": 22,
      "outputs": [
        {
          "output_type": "stream",
          "name": "stdout",
          "text": [
            "\n",
            "=== Data with Variance ===\n",
            "   Department  Budget  Actual_Expense  Variance\n",
            "0          HR   50000           52000      2000\n",
            "1          IT  120000          150000     30000\n",
            "2   Marketing   80000           75000     -5000\n",
            "3     Finance   60000           58000     -2000\n",
            "4  Operations  100000          110000     10000\n"
          ]
        }
      ]
    },
    {
      "cell_type": "code",
      "source": [
        "exceeded = df_merged[df_merged[\"Variance\"] > 0]\n",
        "print(\"\\n=== Departments Exceeding Budget ===\")\n",
        "print(exceeded)"
      ],
      "metadata": {
        "colab": {
          "base_uri": "https://localhost:8080/"
        },
        "id": "4R8fM2GHiRXj",
        "outputId": "92996081-d91c-478c-dbd6-29f59a31dc67"
      },
      "execution_count": 23,
      "outputs": [
        {
          "output_type": "stream",
          "name": "stdout",
          "text": [
            "\n",
            "=== Departments Exceeding Budget ===\n",
            "   Department  Budget  Actual_Expense  Variance\n",
            "0          HR   50000           52000      2000\n",
            "1          IT  120000          150000     30000\n",
            "4  Operations  100000          110000     10000\n"
          ]
        }
      ]
    },
    {
      "cell_type": "code",
      "source": [
        "df_sorted = df_merged.sort_values(by=\"Variance\", ascending=False)\n",
        "print(\"\\n=== Departments Sorted by Variance ===\")\n",
        "print(df_sorted)"
      ],
      "metadata": {
        "colab": {
          "base_uri": "https://localhost:8080/"
        },
        "id": "TrJn8bwyiTBQ",
        "outputId": "7ddb35ca-45e2-4aa2-ab21-b1afafa687d3"
      },
      "execution_count": 24,
      "outputs": [
        {
          "output_type": "stream",
          "name": "stdout",
          "text": [
            "\n",
            "=== Departments Sorted by Variance ===\n",
            "   Department  Budget  Actual_Expense  Variance\n",
            "1          IT  120000          150000     30000\n",
            "4  Operations  100000          110000     10000\n",
            "0          HR   50000           52000      2000\n",
            "3     Finance   60000           58000     -2000\n",
            "2   Marketing   80000           75000     -5000\n"
          ]
        }
      ]
    },
    {
      "cell_type": "code",
      "source": [
        "plt.figure(figsize=(8,5))\n",
        "plt.bar(df_merged[\"Department\"], df_merged[\"Budget\"], width=0.4, label=\"Budget\")\n",
        "plt.bar(df_merged[\"Department\"], df_merged[\"Actual_Expense\"], width=0.4,\n",
        "        label=\"Actual\", alpha=0.7)\n",
        "plt.title(\"Department Budget vs Actual Expenses\")\n",
        "plt.xlabel(\"Department\")\n",
        "plt.ylabel(\"Amount (₹)\")\n",
        "plt.legend()\n",
        "plt.show()"
      ],
      "metadata": {
        "colab": {
          "base_uri": "https://localhost:8080/",
          "height": 487
        },
        "id": "dGRncpAKiVJH",
        "outputId": "d8d64f4b-f767-4172-a114-f577ce45822a"
      },
      "execution_count": 25,
      "outputs": [
        {
          "output_type": "display_data",
          "data": {
            "text/plain": [
              "<Figure size 800x500 with 1 Axes>"
            ],
            "image/png": "[encoded data removed]"
          },
          "metadata": {}
        }
      ]
    }
  ]
}