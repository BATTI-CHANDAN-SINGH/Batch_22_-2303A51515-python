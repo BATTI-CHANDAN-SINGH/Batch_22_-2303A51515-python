{
  "nbformat": 4,
  "nbformat_minor": 0,
  "metadata": {
    "colab": {
      "provenance": [],
      "authorship_tag": "ABX9TyOQcY0J/yIGt6UY/BU4sJAA",
      "include_colab_link": true
    },
    "kernelspec": {
      "name": "python3",
      "display_name": "Python 3"
    },
    "language_info": {
      "name": "python"
    }
  },
  "cells": [
    {
      "cell_type": "markdown",
      "metadata": {
        "id": "view-in-github",
        "colab_type": "text"
      },
      "source": [
        "<a href=\"https://colab.research.google.com/github/BATTI-CHANDAN-SINGH/Batch_22_-2303A51515-python/blob/main/Lab-01.ipynb\" target=\"_parent\"><img src=\"https://colab.research.google.com/assets/colab-badge.svg\" alt=\"Open In Colab\"/></a>"
      ]
    },
    {
      "cell_type": "markdown",
      "source": [
        "Question-01"
      ],
      "metadata": {
        "id": "DZAgmIPoi2kO"
      }
    },
    {
      "cell_type": "code",
      "execution_count": 4,
      "metadata": {
        "colab": {
          "base_uri": "https://localhost:8080/"
        },
        "id": "YFZjVd5yizRZ",
        "outputId": "c588f3ae-8c0b-4a62-87a7-75649d20f783"
      },
      "outputs": [
        {
          "output_type": "stream",
          "name": "stdout",
          "text": [
            "=== Permutations Calculator (nPr) ===\n",
            "Enter total number of people/items (n): 5\n",
            "Enter number of places (r): 4\n",
            "\n",
            "Step 1: Calculate n! = 5!\n",
            "5! = 5 x 4 x 3 x 2 x 1 = 120\n",
            "\n",
            "Step 2: Calculate (n-r)! = (5-4)! = 1!\n",
            "1! = 1 = 1\n",
            "\n",
            "Step 3: Apply formula nPr = n! / (n-r)!\n",
            "5P4 = 120 / 1 = 120\n",
            "\n",
            " Final Answer: 5P4 = 120\n"
          ]
        }
      ],
      "source": [
        "# Recursive factorial function\n",
        "def factorial(n):\n",
        "    if n == 0 or n == 1:\n",
        "        return 1\n",
        "    return n * factorial(n - 1)\n",
        "\n",
        "# Permutation formula: nPr = n! / (n-r)!\n",
        "def permutation(n, r):\n",
        "    return factorial(n) // factorial(n - r)\n",
        "\n",
        "# Main Program\n",
        "def main():\n",
        "    print(\"=== Permutations Calculator (nPr) ===\")\n",
        "\n",
        "    # Input\n",
        "    n = int(input(\"Enter total number of people/items (n): \"))\n",
        "    r = int(input(\"Enter number of places (r): \"))\n",
        "\n",
        "    # Validation\n",
        "    if n < 0 or r < 0:\n",
        "        print(\" n and r must be non-negative.\")\n",
        "        return\n",
        "    if n < r:\n",
        "        print(\" Invalid input: n must be greater than or equal to r.\")\n",
        "        return\n",
        "\n",
        "    # Step-by-step breakdown\n",
        "    print(f\"\\nStep 1: Calculate n! = {n}!\")\n",
        "    print(f\"{n}! = \", end=\"\")\n",
        "    for i in range(n, 0, -1):\n",
        "        print(i, end=\" x \" if i > 1 else \"\")\n",
        "    print(f\" = {factorial(n)}\")\n",
        "\n",
        "    print(f\"\\nStep 2: Calculate (n-r)! = ({n}-{r})! = {n-r}!\")\n",
        "    print(f\"{n-r}! = \", end=\"\")\n",
        "    for i in range(n-r, 0, -1):\n",
        "        print(i, end=\" x \" if i > 1 else \"\")\n",
        "    print(f\" = {factorial(n-r)}\")\n",
        "\n",
        "    print(f\"\\nStep 3: Apply formula nPr = n! / (n-r)!\")\n",
        "    result = permutation(n, r)\n",
        "    print(f\"{n}P{r} = {factorial(n)} / {factorial(n-r)} = {result}\")\n",
        "\n",
        "    print(f\"\\n Final Answer: {n}P{r} = {result}\")\n",
        "\n",
        "# Run Program\n",
        "if __name__ == \"__main__\":\n",
        "    main()\n"
      ]
    },
    {
      "cell_type": "markdown",
      "source": [
        "Question-02"
      ],
      "metadata": {
        "id": "GrqfJH3rjTd1"
      }
    },
    {
      "cell_type": "code",
      "source": [
        "import sys\n",
        "import math\n",
        "import matplotlib.pyplot as plt"
      ],
      "metadata": {
        "id": "KS6Zvq6KjR0W"
      },
      "execution_count": 5,
      "outputs": []
    },
    {
      "cell_type": "code",
      "source": [
        "# Recursive factorial\n",
        "def recursive_factorial(n):\n",
        "    if n == 0 or n == 1:\n",
        "        return 1\n",
        "    return n * recursive_factorial(n - 1)\n",
        "\n",
        "# Iterative factorial (safe for larger n)\n",
        "def iterative_factorial(n):\n",
        "    result = 1\n",
        "    for i in range(2, n + 1):\n",
        "        result *= i\n",
        "    return result\n",
        "\n",
        "def main():\n",
        "    print(\"=== Factorial & Recursion Limit Demo ===\")\n",
        "    print(f\" Maximum recursion depth in Python: {sys.getrecursionlimit()}\\n\")\n",
        "\n",
        "    n = int(input(\"Enter a number to compute factorial: \"))\n",
        "\n",
        "    # Validation\n",
        "    if n < 0:\n",
        "        print(\" Factorial not defined for negative numbers.\")\n",
        "        return\n",
        "    if n > 998:  # Recursion depth ~1000\n",
        "        print(f\"Warning: {n}! may cause RecursionError due to recursion limit.\\n\")\n",
        "\n",
        "    # Recursive factorial with error handling\n",
        "    try:\n",
        "        print(\"\\n-- Recursive Factorial --\")\n",
        "        rec_fact = recursive_factorial(n)\n",
        "        print(f\"{n}! (recursive) = {rec_fact}\")\n",
        "    except RecursionError:\n",
        "        print(f\" RecursionError: Cannot compute {n}! recursively (too deep).\")\n",
        "\n",
        "    # Iterative factorial (safe)\n",
        "    print(\"\\n-- Iterative Factorial --\")\n",
        "    it_fact = iterative_factorial(n)\n",
        "    print(f\"{n}! (iterative) = {it_fact}\")\n",
        "\n",
        "    # math.factorial (built-in optimized)\n",
        "    print(\"\\n-- Built-in math.factorial --\")\n",
        "    print(f\"{n}! (math.factorial) = {math.factorial(n)}\")\n",
        "\n",
        "    # Optional: Plot factorial growth (1–20)\n",
        "    print(\"\\n Plotting factorial growth for n = 1 to 20...\")\n",
        "    x = list(range(1, 21))\n",
        "    y = [iterative_factorial(i) for i in x]\n",
        "\n",
        "    plt.plot(x, y, marker=\"o\")\n",
        "    plt.title(\"Factorial Growth (1–20)\")\n",
        "    plt.xlabel(\"n\")\n",
        "    plt.ylabel(\"n!\")\n",
        "    plt.grid(True)\n",
        "    plt.show()\n",
        "\n",
        "if __name__ == \"__main__\":\n",
        "    main()\n"
      ],
      "metadata": {
        "colab": {
          "base_uri": "https://localhost:8080/",
          "height": 732
        },
        "id": "d7qWVrdpjKHr",
        "outputId": "7d1d0a2c-65cc-4d18-bb2e-2de55083b8e5"
      },
      "execution_count": 6,
      "outputs": [
        {
          "output_type": "stream",
          "name": "stdout",
          "text": [
            "=== Factorial & Recursion Limit Demo ===\n",
            " Maximum recursion depth in Python: 1000\n",
            "\n",
            "Enter a number to compute factorial: 100\n",
            "\n",
            "-- Recursive Factorial --\n",
            "100! (recursive) = 93326215443944152681699238856266700490715968264381621468592963895217599993229915608941463976156518286253697920827223758251185210916864000000000000000000000000\n",
            "\n",
            "-- Iterative Factorial --\n",
            "100! (iterative) = 93326215443944152681699238856266700490715968264381621468592963895217599993229915608941463976156518286253697920827223758251185210916864000000000000000000000000\n",
            "\n",
            "-- Built-in math.factorial --\n",
            "100! (math.factorial) = 93326215443944152681699238856266700490715968264381621468592963895217599993229915608941463976156518286253697920827223758251185210916864000000000000000000000000\n",
            "\n",
            " Plotting factorial growth for n = 1 to 20...\n"
          ]
        },
        {
          "output_type": "display_data",
          "data": {
            "text/plain": [
              "<Figure size 640x480 with 1 Axes>"
            ],
            "image/png": "[encoded data removed]"
          },
          "metadata": {}
        }
      ]
    }
  ]
}